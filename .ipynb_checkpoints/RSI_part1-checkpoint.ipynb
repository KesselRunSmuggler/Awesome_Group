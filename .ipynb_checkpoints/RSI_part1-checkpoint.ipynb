{
 "cells": [
  {
   "cell_type": "code",
   "execution_count": 13,
   "id": "a505c760",
   "metadata": {},
   "outputs": [],
   "source": [
    "import numpy as np\n",
    "import pandas as pd\n",
    "from pandas_datareader import data\n",
    "import matplotlib.pyplot as plt\n",
    "%matplotlib inline"
   ]
  },
  {
   "cell_type": "code",
   "execution_count": 14,
   "id": "29b811b8",
   "metadata": {},
   "outputs": [],
   "source": [
    "tickers = ['AAPL', 'BHP.AX']"
   ]
  },
  {
   "cell_type": "code",
   "execution_count": 15,
   "id": "312b99de",
   "metadata": {},
   "outputs": [],
   "source": [
    "def RSIcalc(asset):\n",
    "    df = data.DataReader(\n",
    "        asset, \n",
    "        'yahoo',\n",
    "        start = '2007/01/01',\n",
    "        end = '2011/01/01'\n",
    "    )\n",
    "    \n",
    "    df['MA200'] = df['Close'].rolling(window=200).mean()\n",
    "    df['price change'] = df['Close'].pct_change()\n",
    "    df['Upmove'] = df['price change'].apply(lambda x: x if x > 0 else 0)\n",
    "    df['Downmove'] = df['price change'].apply(lambda x: abs(x) if x < 0 else 0)\n",
    "    df['Avg Up'] = df['Upmove'].ewm(span=19).mean()\n",
    "    df['Avg Down'] = df['Downmove'].ewm(span=19).mean()\n",
    "    df = df.dropna()\n",
    "    df['RS'] = df['Avg Up'] / df['Avg Down']\n",
    "    df['RSI'] = df['RS'].apply(lambda x: 100-(100/(x+1)))\n",
    "    df.loc[(df['Close'] > df['MA200']) & (df['RSI'] < 30), 'Buy'] = 'Yes'\n",
    "    df.loc[(df['Close'] < df['MA200']) | (df['RSI'] > 30), 'Buy'] = 'No'\n",
    "    return df\n",
    "\n",
    "\n"
   ]
  },
  {
   "cell_type": "code",
   "execution_count": 16,
   "id": "852e3ef1",
   "metadata": {},
   "outputs": [
    {
     "data": {
      "text/html": [
       "<div>\n",
       "<style scoped>\n",
       "    .dataframe tbody tr th:only-of-type {\n",
       "        vertical-align: middle;\n",
       "    }\n",
       "\n",
       "    .dataframe tbody tr th {\n",
       "        vertical-align: top;\n",
       "    }\n",
       "\n",
       "    .dataframe thead th {\n",
       "        text-align: right;\n",
       "    }\n",
       "</style>\n",
       "<table border=\"1\" class=\"dataframe\">\n",
       "  <thead>\n",
       "    <tr style=\"text-align: right;\">\n",
       "      <th></th>\n",
       "      <th>High</th>\n",
       "      <th>Low</th>\n",
       "      <th>Open</th>\n",
       "      <th>Close</th>\n",
       "      <th>Volume</th>\n",
       "      <th>Adj Close</th>\n",
       "      <th>MA200</th>\n",
       "      <th>price change</th>\n",
       "      <th>Upmove</th>\n",
       "      <th>Downmove</th>\n",
       "      <th>Avg Up</th>\n",
       "      <th>Avg Down</th>\n",
       "      <th>RS</th>\n",
       "      <th>RSI</th>\n",
       "      <th>Buy</th>\n",
       "    </tr>\n",
       "    <tr>\n",
       "      <th>Date</th>\n",
       "      <th></th>\n",
       "      <th></th>\n",
       "      <th></th>\n",
       "      <th></th>\n",
       "      <th></th>\n",
       "      <th></th>\n",
       "      <th></th>\n",
       "      <th></th>\n",
       "      <th></th>\n",
       "      <th></th>\n",
       "      <th></th>\n",
       "      <th></th>\n",
       "      <th></th>\n",
       "      <th></th>\n",
       "      <th></th>\n",
       "    </tr>\n",
       "  </thead>\n",
       "  <tbody>\n",
       "    <tr>\n",
       "      <th>2007-10-17</th>\n",
       "      <td>6.180000</td>\n",
       "      <td>6.042143</td>\n",
       "      <td>6.167500</td>\n",
       "      <td>6.169643</td>\n",
       "      <td>1127613200</td>\n",
       "      <td>5.297357</td>\n",
       "      <td>4.089096</td>\n",
       "      <td>0.018693</td>\n",
       "      <td>0.018693</td>\n",
       "      <td>0.000000</td>\n",
       "      <td>0.012946</td>\n",
       "      <td>0.003981</td>\n",
       "      <td>3.251799</td>\n",
       "      <td>76.480543</td>\n",
       "      <td>No</td>\n",
       "    </tr>\n",
       "    <tr>\n",
       "      <th>2007-10-18</th>\n",
       "      <td>6.221071</td>\n",
       "      <td>6.108929</td>\n",
       "      <td>6.125000</td>\n",
       "      <td>6.196429</td>\n",
       "      <td>823676000</td>\n",
       "      <td>5.320355</td>\n",
       "      <td>4.105114</td>\n",
       "      <td>0.004342</td>\n",
       "      <td>0.004342</td>\n",
       "      <td>0.000000</td>\n",
       "      <td>0.012086</td>\n",
       "      <td>0.003583</td>\n",
       "      <td>3.372966</td>\n",
       "      <td>77.132225</td>\n",
       "      <td>No</td>\n",
       "    </tr>\n",
       "    <tr>\n",
       "      <th>2007-10-19</th>\n",
       "      <td>6.236786</td>\n",
       "      <td>6.071429</td>\n",
       "      <td>6.222857</td>\n",
       "      <td>6.086429</td>\n",
       "      <td>1291780000</td>\n",
       "      <td>5.225908</td>\n",
       "      <td>4.120250</td>\n",
       "      <td>-0.017752</td>\n",
       "      <td>0.000000</td>\n",
       "      <td>0.017752</td>\n",
       "      <td>0.010877</td>\n",
       "      <td>0.005000</td>\n",
       "      <td>2.175425</td>\n",
       "      <td>68.508151</td>\n",
       "      <td>No</td>\n",
       "    </tr>\n",
       "    <tr>\n",
       "      <th>2007-10-22</th>\n",
       "      <td>6.246429</td>\n",
       "      <td>6.070000</td>\n",
       "      <td>6.083929</td>\n",
       "      <td>6.227143</td>\n",
       "      <td>1649499600</td>\n",
       "      <td>5.346727</td>\n",
       "      <td>4.136198</td>\n",
       "      <td>0.023119</td>\n",
       "      <td>0.023119</td>\n",
       "      <td>0.000000</td>\n",
       "      <td>0.012101</td>\n",
       "      <td>0.004500</td>\n",
       "      <td>2.689184</td>\n",
       "      <td>72.893737</td>\n",
       "      <td>No</td>\n",
       "    </tr>\n",
       "    <tr>\n",
       "      <th>2007-10-23</th>\n",
       "      <td>6.735714</td>\n",
       "      <td>6.527143</td>\n",
       "      <td>6.734286</td>\n",
       "      <td>6.648571</td>\n",
       "      <td>1795164000</td>\n",
       "      <td>5.708572</td>\n",
       "      <td>4.154179</td>\n",
       "      <td>0.067676</td>\n",
       "      <td>0.067676</td>\n",
       "      <td>0.000000</td>\n",
       "      <td>0.017659</td>\n",
       "      <td>0.004050</td>\n",
       "      <td>4.360192</td>\n",
       "      <td>81.343951</td>\n",
       "      <td>No</td>\n",
       "    </tr>\n",
       "    <tr>\n",
       "      <th>...</th>\n",
       "      <td>...</td>\n",
       "      <td>...</td>\n",
       "      <td>...</td>\n",
       "      <td>...</td>\n",
       "      <td>...</td>\n",
       "      <td>...</td>\n",
       "      <td>...</td>\n",
       "      <td>...</td>\n",
       "      <td>...</td>\n",
       "      <td>...</td>\n",
       "      <td>...</td>\n",
       "      <td>...</td>\n",
       "      <td>...</td>\n",
       "      <td>...</td>\n",
       "      <td>...</td>\n",
       "    </tr>\n",
       "    <tr>\n",
       "      <th>2010-12-27</th>\n",
       "      <td>11.622857</td>\n",
       "      <td>11.482857</td>\n",
       "      <td>11.530357</td>\n",
       "      <td>11.595714</td>\n",
       "      <td>249816000</td>\n",
       "      <td>9.956268</td>\n",
       "      <td>9.693525</td>\n",
       "      <td>0.003337</td>\n",
       "      <td>0.003337</td>\n",
       "      <td>0.000000</td>\n",
       "      <td>0.003480</td>\n",
       "      <td>0.001922</td>\n",
       "      <td>1.810567</td>\n",
       "      <td>64.419995</td>\n",
       "      <td>No</td>\n",
       "    </tr>\n",
       "    <tr>\n",
       "      <th>2010-12-28</th>\n",
       "      <td>11.666429</td>\n",
       "      <td>11.609286</td>\n",
       "      <td>11.639643</td>\n",
       "      <td>11.623929</td>\n",
       "      <td>175924000</td>\n",
       "      <td>9.980494</td>\n",
       "      <td>9.711673</td>\n",
       "      <td>0.002433</td>\n",
       "      <td>0.002433</td>\n",
       "      <td>0.000000</td>\n",
       "      <td>0.003375</td>\n",
       "      <td>0.001730</td>\n",
       "      <td>1.951237</td>\n",
       "      <td>66.115901</td>\n",
       "      <td>No</td>\n",
       "    </tr>\n",
       "    <tr>\n",
       "      <th>2010-12-29</th>\n",
       "      <td>11.658929</td>\n",
       "      <td>11.610714</td>\n",
       "      <td>11.650714</td>\n",
       "      <td>11.617500</td>\n",
       "      <td>163139200</td>\n",
       "      <td>9.974976</td>\n",
       "      <td>9.729680</td>\n",
       "      <td>-0.000553</td>\n",
       "      <td>0.000000</td>\n",
       "      <td>0.000553</td>\n",
       "      <td>0.003038</td>\n",
       "      <td>0.001612</td>\n",
       "      <td>1.884296</td>\n",
       "      <td>65.329498</td>\n",
       "      <td>No</td>\n",
       "    </tr>\n",
       "    <tr>\n",
       "      <th>2010-12-30</th>\n",
       "      <td>11.625357</td>\n",
       "      <td>11.537500</td>\n",
       "      <td>11.624286</td>\n",
       "      <td>11.559286</td>\n",
       "      <td>157494400</td>\n",
       "      <td>9.924993</td>\n",
       "      <td>9.747455</td>\n",
       "      <td>-0.005011</td>\n",
       "      <td>0.000000</td>\n",
       "      <td>0.005011</td>\n",
       "      <td>0.002734</td>\n",
       "      <td>0.001952</td>\n",
       "      <td>1.400581</td>\n",
       "      <td>58.343422</td>\n",
       "      <td>No</td>\n",
       "    </tr>\n",
       "    <tr>\n",
       "      <th>2010-12-31</th>\n",
       "      <td>11.552857</td>\n",
       "      <td>11.475357</td>\n",
       "      <td>11.533929</td>\n",
       "      <td>11.520000</td>\n",
       "      <td>193508000</td>\n",
       "      <td>9.891260</td>\n",
       "      <td>9.764939</td>\n",
       "      <td>-0.003399</td>\n",
       "      <td>0.000000</td>\n",
       "      <td>0.003399</td>\n",
       "      <td>0.002461</td>\n",
       "      <td>0.002097</td>\n",
       "      <td>1.173550</td>\n",
       "      <td>53.992310</td>\n",

       "      <td>No</td>\n",
       "    </tr>\n",
       "  </tbody>\n",
       "</table>\n",
       "<p>809 rows × 15 columns</p>\n",
       "</div>"
      ],
      "text/plain": [
       "                 High        Low       Open      Close      Volume  Adj Close  \\\n",
       "Date                                                                            \n",
       "2007-10-17   6.180000   6.042143   6.167500   6.169643  1127613200   5.297357   \n",
       "2007-10-18   6.221071   6.108929   6.125000   6.196429   823676000   5.320355   \n",
       "2007-10-19   6.236786   6.071429   6.222857   6.086429  1291780000   5.225908   \n",
       "2007-10-22   6.246429   6.070000   6.083929   6.227143  1649499600   5.346727   \n",
       "2007-10-23   6.735714   6.527143   6.734286   6.648571  1795164000   5.708572   \n",
       "...               ...        ...        ...        ...         ...        ...   \n",
       "2010-12-27  11.622857  11.482857  11.530357  11.595714   249816000   9.956268   \n",
       "2010-12-28  11.666429  11.609286  11.639643  11.623929   175924000   9.980494   \n",
       "2010-12-29  11.658929  11.610714  11.650714  11.617500   163139200   9.974976   \n",
       "2010-12-30  11.625357  11.537500  11.624286  11.559286   157494400   9.924993   \n",
       "2010-12-31  11.552857  11.475357  11.533929  11.520000   193508000   9.891260   \n",
       "\n",
       "               MA200  price change    Upmove  Downmove    Avg Up  Avg Down  \\\n",
       "Date                                                                         \n",
       "2007-10-17  4.089096      0.018693  0.018693  0.000000  0.012946  0.003981   \n",
       "2007-10-18  4.105114      0.004342  0.004342  0.000000  0.012086  0.003583   \n",
       "2007-10-19  4.120250     -0.017752  0.000000  0.017752  0.010877  0.005000   \n",
       "2007-10-22  4.136198      0.023119  0.023119  0.000000  0.012101  0.004500   \n",
       "2007-10-23  4.154179      0.067676  0.067676  0.000000  0.017659  0.004050   \n",
       "...              ...           ...       ...       ...       ...       ...   \n",
       "2010-12-27  9.693525      0.003337  0.003337  0.000000  0.003480  0.001922   \n",
       "2010-12-28  9.711673      0.002433  0.002433  0.000000  0.003375  0.001730   \n",
       "2010-12-29  9.729680     -0.000553  0.000000  0.000553  0.003038  0.001612   \n",
       "2010-12-30  9.747455     -0.005011  0.000000  0.005011  0.002734  0.001952   \n",
       "2010-12-31  9.764939     -0.003399  0.000000  0.003399  0.002461  0.002097   \n",
       "\n",
       "                  RS        RSI Buy  \n",
       "Date                                 \n",
       "2007-10-17  3.251799  76.480543  No  \n",
       "2007-10-18  3.372966  77.132225  No  \n",
       "2007-10-19  2.175425  68.508151  No  \n",
       "2007-10-22  2.689184  72.893737  No  \n",
       "2007-10-23  4.360192  81.343951  No  \n",
       "...              ...        ...  ..  \n",
       "2010-12-27  1.810567  64.419995  No  \n",
       "2010-12-28  1.951237  66.115901  No  \n",
       "2010-12-29  1.884296  65.329498  No  \n",
       "2010-12-30  1.400581  58.343422  No  \n",
       "2010-12-31  1.173550  53.992310  No  \n",
       "\n",
       "[809 rows x 15 columns]"
      ]
     },
     "execution_count": 16,

     "metadata": {},
     "output_type": "execute_result"
    }
   ],
   "source": [
    "RSIcalc(tickers[0])"
   ]
  },
  {
   "cell_type": "code",
   "execution_count": null,
   "id": "986242b1",
   "metadata": {},
   "outputs": [],
   "source": []
  },
  {
   "cell_type": "code",
   "execution_count": 17,
   "id": "75d77842",
   "metadata": {},
   "outputs": [],
   "source": [
    "def getSignals(df):\n",
    "\n",
    "    Buying_dates = []\n",
    "    Selling_dates = []\n",
    "    \n",
    "    for i in range(len(df) - 11):\n",
    "        #If column 'Buy'\n",
    "        if \"Yes\" in df['Buy'].iloc[i]: \n",
    "            Buying_dates.append(df.iloc[i+1].name)\n",
    "            for j in range(1,11):\n",
    "                if df['RSI'].iloc[i + j] > 40:\n",
    "                    Selling_dates.append(df.iloc[i+j].name)\n",
    "                    break #Break the loop once the condition has been met i.e. RSI > 40\n",
    "        \n",
    "                #2nd condition: if 1st condition hasn't been met, sell after maximum 10 days\n",
    "                elif j == 10:\n",
    "                    Selling_dates.append(df.iloc[i+j+1].name)   \n",
    "      \n",
    "    return Buying_dates, Selling_dates\n",
    "\n",
    "    "
   ]
  },
  {
   "cell_type": "code",
   "execution_count": 18,
   "id": "041b9f58",
   "metadata": {},
   "outputs": [],
   "source": [
    "df_test = RSIcalc(tickers[0])\n",
    "\n",
    "\n",
    "buy, sell = getSignals(df_test)"
   ]
  },
  {
   "cell_type": "code",
   "execution_count": 25,
   "id": "b146e1c7",
   "metadata": {},
   "outputs": [
    {
     "data": {
      "text/plain": [
       "[Timestamp('2007-12-20 00:00:00'),\n",
       " Timestamp('2008-01-14 00:00:00'),\n",
       " Timestamp('2010-01-27 00:00:00'),\n",
       " Timestamp('2010-01-31 00:00:00'),\n",
       " Timestamp('2010-02-01 00:00:00'),\n",
       " Timestamp('2010-04-29 00:00:00'),\n",
       " Timestamp('2010-04-30 00:00:00'),\n",
       " Timestamp('2010-05-03 00:00:00')]"
      ]
     },
     "execution_count": 25,
     "metadata": {},
     "output_type": "execute_result"
    }
   ],
   "source": [
    "buy"
   ]
  },
  {
   "cell_type": "code",
   "execution_count": 26,
   "id": "18387ab4",
   "metadata": {},
   "outputs": [
    {
     "data": {
      "text/plain": [
       "[Timestamp('2007-12-23 00:00:00'),\n",
       " Timestamp('2008-01-23 00:00:00'),\n",
       " Timestamp('2010-02-01 00:00:00'),\n",
       " Timestamp('2010-02-01 00:00:00'),\n",
       " Timestamp('2010-02-01 00:00:00'),\n",
       " Timestamp('2010-05-13 00:00:00'),\n",
       " Timestamp('2010-05-14 00:00:00'),\n",
       " Timestamp('2010-05-17 00:00:00')]"
      ]
     },
     "execution_count": 26,
     "metadata": {},
     "output_type": "execute_result"
    }
   ],
   "source": [
    "sell"
   ]
  },
  {
   "cell_type": "code",
   "execution_count": 19,
   "id": "440ecbf5",
   "metadata": {},
   "outputs": [],
   "source": [
    "#Profit = (df_test.loc[sell].Close.values - df_test.loc[buy].Close.values) / df_test.loc[buy].Close.values"
   ]
  },
  {
   "cell_type": "code",
   "execution_count": 31,
   "id": "57cd9a69",
   "metadata": {},
   "outputs": [],
   "source": [
    "df_test['Profit'] = 0"
   ]
  },
  {
   "cell_type": "code",
   "execution_count": 33,
   "id": "39af36a9",

   "metadata": {},
   "outputs": [],
   "source": [
    "Profit = (df_test.loc[sell].Close.values - df_test.loc[buy].Close.values) / df_test.loc[buy].Close.values"
   ]
  },
  {
   "cell_type": "code",
   "execution_count": 20,
   "id": "6dd645c9",

   "metadata": {},
   "outputs": [
    {
     "data": {
      "text/plain": [
       "array([ 0.        ,  0.        , -0.16868657, -0.12274396,  0.04176553,\n",
       "        0.03063119])"
      ]
     },
     "execution_count": 20,
     "metadata": {},
     "output_type": "execute_result"
    }
   ],
   "source": [
    "Profit"
   ]
  },
  {
   "cell_type": "code",
   "execution_count": 21,
   "id": "0186afb8",
   "metadata": {},
   "outputs": [],
   "source": [
    "wins = [i for i in Profit if i > 0]"
   ]
  },
  {
   "cell_type": "code",
   "execution_count": 22,
   "id": "94f1a705",
   "metadata": {},
   "outputs": [
    {
     "data": {
      "text/plain": [
       "0.3333333333333333"
      ]
     },
     "execution_count": 22,
     "metadata": {},
     "output_type": "execute_result"
    }
   ],
   "source": [
    "probability = len(wins) / len(Profit)\n",
    "probability"
   ]
  },
  {
   "cell_type": "code",
   "execution_count": 23,
   "id": "b38f51a9",
   "metadata": {},
   "outputs": [],
   "source": [
    "matrix_signals = []\n",
    "matrix_profits = []\n",
    "\n",
    "for i in range(len(tickers)):\n",
    "    df_test = RSIcalc(tickers[i])\n",
    "    buy,sell = getSignals(df_test)\n",
    "    Profit = (df_test.loc[sell].Close.values - df_test.loc[buy].Close.values) / df_test.loc[buy].Close.values\n",
    "    matrix_signals.append(buy)\n",
    "    matrix_profits.append(Profit)"
   ]
  },
  {
   "cell_type": "code",
   "execution_count": 24,
   "id": "a0f60f0e",
   "metadata": {},
   "outputs": [
    {
     "data": {
      "text/plain": [

       "[array([ 0.        ,  0.        , -0.16868657, -0.12274396,  0.04176553,\n",
       "         0.03063119]),\n",
       " array([ 0.02194203, -0.10049088, -0.00589681,  0.03214292,  0.        ,\n",
       "        -0.0414815 , -0.05177916, -0.06678465])]"
      ]
     },
     "execution_count": 24,
     "metadata": {},
     "output_type": "execute_result"
    }
   ],
   "source": [
    "matrix_profits"
   ]
  },
  {
   "cell_type": "code",
   "execution_count": null,
   "id": "3fdce277",
   "metadata": {},
   "outputs": [],
   "source": []
  }
 ],
 "metadata": {
  "kernelspec": {
   "display_name": "Python 3",
   "language": "python",
   "name": "python3"
  },
  "language_info": {
   "codemirror_mode": {
    "name": "ipython",
    "version": 3
   },
   "file_extension": ".py",
   "mimetype": "text/x-python",
   "name": "python",
   "nbconvert_exporter": "python",
   "pygments_lexer": "ipython3",
   "version": "3.7.10"
  }
 },
 "nbformat": 4,
 "nbformat_minor": 5
}
